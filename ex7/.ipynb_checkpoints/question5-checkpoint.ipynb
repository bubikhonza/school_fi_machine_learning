{
 "cells": [
  {
   "cell_type": "code",
   "execution_count": 13,
   "metadata": {},
   "outputs": [],
   "source": [
    "from scipy.io import loadmat\n",
    "\n",
    "import pandas as pd\n",
    "import matplotlib.pyplot as plt\n",
    "import numpy as np\n",
    "\n",
    "from sklearn.linear_model import LogisticRegression\n",
    "from sklearn.metrics import accuracy_score\n",
    "from sklearn.model_selection import cross_val_score"
   ]
  },
  {
   "cell_type": "code",
   "execution_count": 14,
   "metadata": {},
   "outputs": [],
   "source": [
    "mat = loadmat(\"./arcene.mat\")\n",
    "\n",
    "X_train = mat[\"X_train\"]\n",
    "y_train = mat[\"y_train\"].ravel()\n",
    "X_test = mat[\"X_test\"]\n",
    "y_test = mat[\"y_test\"].ravel()"
   ]
  },
  {
   "cell_type": "code",
   "execution_count": 15,
   "metadata": {
    "scrolled": false
   },
   "outputs": [
    {
     "name": "stdout",
     "output_type": "stream",
     "text": [
      "X_train :  (100, 10000)\n",
      "y_train :  (100,)\n",
      "X_test :  (100, 10000)\n",
      "y_test :  (100,)\n"
     ]
    }
   ],
   "source": [
    "print(\"X_train : \",X_train.shape)\n",
    "print(\"y_train : \",y_train.shape)\n",
    "print(\"X_test : \",X_test.shape)\n",
    "print(\"y_test : \",y_test.shape)"
   ]
  },
  {
   "cell_type": "code",
   "execution_count": 16,
   "metadata": {},
   "outputs": [],
   "source": [
    "# Model definiton and training\n",
    "models = []\n",
    "Cvalues= [0.0001,0.001,0.01,0.1,1,10,100,1000,10000]\n",
    "for c in Cvalues:\n",
    "    model = LogisticRegression(solver='liblinear', C=c, penalty ='l1')\n",
    "    model.fit(X_train,y_train)\n",
    "    models.append(model)"
   ]
  },
  {
   "cell_type": "code",
   "execution_count": 17,
   "metadata": {
    "scrolled": true
   },
   "outputs": [
    {
     "name": "stdout",
     "output_type": "stream",
     "text": [
      "Accuracy by 5 fold cross validation :  0.8002020202020201 [0.5604040404040403, 0.7438383838383839, 0.7297979797979799, 0.750909090909091, 0.7802020202020202, 0.8285858585858585, 0.8115151515151515, 0.772929292929293, 0.8002020202020201]\n"
     ]
    }
   ],
   "source": [
    "\n",
    "accuracyScore = []\n",
    "\n",
    "for m in models:\n",
    "    cAccuracy = np.mean(cross_val_score(m,X_test,y_test,cv=10))\n",
    "    accuracyScore.append(cAccuracy)\n",
    "\n",
    "print(\"10 fold cross validation accuracy : \",cAccuracy,accuracyScore)"
   ]
  },
  {
   "cell_type": "code",
   "execution_count": 18,
   "metadata": {},
   "outputs": [
    {
     "name": "stdout",
     "output_type": "stream",
     "text": [
      "best value of C is :  10\n"
     ]
    }
   ],
   "source": [
    "print(\"best value of C is : \",Cvalues[np.argmax(accuracyScore)])"
   ]
  },
  {
   "cell_type": "code",
   "execution_count": 19,
   "metadata": {
    "scrolled": true
   },
   "outputs": [
    {
     "name": "stdout",
     "output_type": "stream",
     "text": [
      "(1, 10000)\n"
     ]
    }
   ],
   "source": [
    "features = model.coef_\n",
    "\n",
    "print(features.shape)"
   ]
  }
 ],
 "metadata": {
  "kernelspec": {
   "display_name": "Python 3",
   "language": "python",
   "name": "python3"
  },
  "language_info": {
   "codemirror_mode": {
    "name": "ipython",
    "version": 3
   },
   "file_extension": ".py",
   "mimetype": "text/x-python",
   "name": "python",
   "nbconvert_exporter": "python",
   "pygments_lexer": "ipython3",
   "version": "3.7.3"
  }
 },
 "nbformat": 4,
 "nbformat_minor": 2
}
