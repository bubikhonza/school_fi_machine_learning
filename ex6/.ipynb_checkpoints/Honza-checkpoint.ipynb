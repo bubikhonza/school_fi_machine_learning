{
 "cells": [
  {
   "cell_type": "markdown",
   "metadata": {
    "colab_type": "text",
    "id": "rHqdYd0qmy28"
   },
   "source": [
    "# Imports"
   ]
  },
  {
   "cell_type": "code",
   "execution_count": 0,
   "metadata": {
    "colab": {
     "base_uri": "https://localhost:8080/",
     "height": 168
    },
    "colab_type": "code",
    "id": "n7W0D0y2Pver",
    "outputId": "01e426bb-c955-41c8-c201-b4db90e67322"
   },
   "outputs": [
    {
     "data": {
      "text/html": [
       "<p style=\"color: red;\">\n",
       "The default version of TensorFlow in Colab will soon switch to TensorFlow 2.x.<br>\n",
       "We recommend you <a href=\"https://www.tensorflow.org/guide/migrate\" target=\"_blank\">upgrade</a> now \n",
       "or ensure your notebook will continue to use TensorFlow 1.x via the <code>%tensorflow_version 1.x</code> magic:\n",
       "<a href=\"https://colab.research.google.com/notebooks/tensorflow_version.ipynb\" target=\"_blank\">more info</a>.</p>\n"
      ],
      "text/plain": [
       "<IPython.core.display.HTML object>"
      ]
     },
     "metadata": {
      "tags": []
     },
     "output_type": "display_data"
    },
    {
     "name": "stderr",
     "output_type": "stream",
     "text": [
      "Using TensorFlow backend.\n"
     ]
    },
    {
     "name": "stdout",
     "output_type": "stream",
     "text": [
      "Device mapping:\n",
      "/job:localhost/replica:0/task:0/device:XLA_CPU:0 -> device: XLA_CPU device\n",
      "/job:localhost/replica:0/task:0/device:XLA_GPU:0 -> device: XLA_GPU device\n",
      "/job:localhost/replica:0/task:0/device:GPU:0 -> device: 0, name: Tesla P100-PCIE-16GB, pci bus id: 0000:00:04.0, compute capability: 6.0\n",
      "\n"
     ]
    }
   ],
   "source": [
    "import os\n",
    "import numpy as np # linear algebra\n",
    "import pandas as pd # data processing, CSV file I/O (e.g. pd.read_csv\n",
    "import matplotlib.pyplot as plt\n",
    "import tensorflow as tf\n",
    "import cv2 as cv2\n",
    "from sklearn.model_selection import train_test_split\n",
    "from PIL import Image\n",
    "from sklearn.utils import shuffle\n",
    "from keras.preprocessing.image import ImageDataGenerator\n",
    "from keras.applications import MobileNetV2\n",
    "from keras.layers import Dense, GlobalAveragePooling2D, Flatten\n",
    "from keras.models import Model\n",
    "from keras.optimizers import Adam\n",
    "from keras.metrics import categorical_crossentropy\n",
    "import math\n",
    "import h5py\n",
    "\n",
    "#see what GPU is in use\n",
    "sess = tf.Session(config=tf.ConfigProto(log_device_placement=True))"
   ]
  },
  {
   "cell_type": "markdown",
   "metadata": {
    "colab_type": "text",
    "id": "3_BZseOouF_H"
   },
   "source": [
    "# Load paths to dataframes"
   ]
  },
  {
   "cell_type": "code",
   "execution_count": 0,
   "metadata": {
    "colab": {},
    "colab_type": "code",
    "id": "scy4rMafPwfu"
   },
   "outputs": [],
   "source": [
    "root = 'C:/ML/train/train'\n",
    "data = []\n",
    "for category in sorted(os.listdir(root)):\n",
    "    for file in sorted(os.listdir(os.path.join(root, category))):\n",
    "        data.append((category, os.path.join(root, category,  file)))\n",
    "df_train = pd.DataFrame(data, columns=['class', 'file_path'])\n",
    "\n",
    "\n",
    "root2 = 'C:/ML/test/testset'\n",
    "test_data = []\n",
    "for file in sorted(os.listdir(root2)):\n",
    "      test_data.append(os.path.join(root2,  file))\n",
    "df_test = pd.DataFrame(test_data, columns=['file_path'])"
   ]
  },
  {
   "cell_type": "markdown",
   "metadata": {
    "colab_type": "text",
    "id": "aHbNCnKZuJ1K"
   },
   "source": [
    "# Split train data to train and validation (0.2 test size), then convert back to dataframe for generators"
   ]
  },
  {
   "cell_type": "code",
   "execution_count": 0,
   "metadata": {
    "colab": {},
    "colab_type": "code",
    "id": "dVc_WZwzYSMx"
   },
   "outputs": [],
   "source": [
    "\n",
    "X_data = df_train['file_path'].to_numpy()\n",
    "y_data = df_train['class'].to_numpy()\n",
    "\n",
    "#train_test_split should also shuffle data\n",
    "X_train, X_validation, y_train, y_validation = train_test_split(X_data,\n",
    "                                                                y_data,\n",
    "                                                                test_size=0.2,\n",
    "                                                                random_state=42)\n",
    "\n",
    "train_data = np.array([X_train, y_train])\n",
    "validation_data = np.array([X_validation, y_validation])\n",
    "\n",
    "dataframe_train = pd.DataFrame({'file_path': train_data[0,:], 'class': train_data[1,:]})\n",
    "dataframe_validation = pd.DataFrame({'file_path': validation_data[0,:], 'class': validation_data[1,:]})\n",
    "dataframe_test = df_test\n"
   ]
  },
  {
   "cell_type": "markdown",
   "metadata": {
    "colab_type": "text",
    "id": "eO9Kbm8aOKfO"
   },
   "source": [
    "# Compute class weights because of unbalanced dataset"
   ]
  },
  {
   "cell_type": "code",
   "execution_count": 0,
   "metadata": {
    "colab": {},
    "colab_type": "code",
    "id": "SWbHV9VtNqeq"
   },
   "outputs": [],
   "source": [
    "from sklearn.utils import class_weight\n",
    "class_weights = class_weight.compute_class_weight('balanced',\n",
    "                                                 np.unique(y_train),\n",
    "                                                 y_train)\n",
    "class_weights = dict(enumerate(class_weights))"
   ]
  },
  {
   "cell_type": "markdown",
   "metadata": {
    "colab_type": "text",
    "id": "qxfV9rnn0pzM"
   },
   "source": [
    "# Reducing size of dataset\n",
    "\n"
   ]
  },
  {
   "cell_type": "code",
   "execution_count": 0,
   "metadata": {
    "colab": {},
    "colab_type": "code",
    "id": "UC8gJVgj0pWC"
   },
   "outputs": [],
   "source": [
    "dataframe_train = dataframe_train[:1000]\n",
    "dataframe_validation = dataframe_validation[:1000]\n",
    "dataframe_test = dataframe_test[:1000]\n"
   ]
  },
  {
   "cell_type": "markdown",
   "metadata": {
    "colab_type": "text",
    "id": "CRFs-ht7uYJX"
   },
   "source": [
    "# Image data generators"
   ]
  },
  {
   "cell_type": "code",
   "execution_count": 0,
   "metadata": {
    "colab": {},
    "colab_type": "code",
    "id": "27JC6rYls_K8"
   },
   "outputs": [],
   "source": [
    "batch_size = 32\n",
    "train_datagen = ImageDataGenerator(rescale=1./255)\n",
    "test_datagen = ImageDataGenerator(rescale=1./255)\n",
    "\n",
    "train_generator = train_datagen.flow_from_dataframe(\n",
    "        dataframe_train,\n",
    "        x_col = 'file_path',\n",
    "        y_col = 'class',\n",
    "        target_size=(224, 224),\n",
    "        batch_size=batch_size,\n",
    "        class_mode='categorical')\n",
    "\n",
    "validation_generator = test_datagen.flow_from_dataframe(\n",
    "        dataframe_validation,\n",
    "        x_col = 'file_path',\n",
    "        y_col = 'class',\n",
    "        target_size=(224, 224),\n",
    "        batch_size=batch_size,\n",
    "        class_mode='categorical')\n",
    "\n",
    "test_generator = test_datagen.flow_from_dataframe(\n",
    "        dataframe_test,\n",
    "        x_col = 'file_path',\n",
    "        target_size=(299, 299),\n",
    "        batch_size=batch_size,\n",
    "        class_mode=None)"
   ]
  },
  {
   "cell_type": "markdown",
   "metadata": {
    "colab_type": "text",
    "id": "6Y-2KU7lu7L7"
   },
   "source": [
    "# Creating model"
   ]
  },
  {
   "cell_type": "code",
   "execution_count": 0,
   "metadata": {
    "colab": {},
    "colab_type": "code",
    "id": "xkp0nZ33ZDFL"
   },
   "outputs": [],
   "source": [
    "base_model = MobileNetV2(include_top = False, input_shape=(224, 224, 3), weights='imagenet')\n",
    "out = base_model.output\n",
    "out = GlobalAveragePooling2D()(out)\n",
    "\n",
    "out = Dense(512, activation=\"relu\")(out)\n",
    "predictions = Dense(17, activation=\"softmax\")(out)\n",
    "\n",
    "model = Model(inputs = base_model.input, outputs = predictions)\n",
    "\n",
    "for layer in base_model.layers:\n",
    "    layer.trainable = False\n",
    "\n",
    "model.compile(optimizer=Adam(), loss='categorical_crossentropy', weighted_metrics=['accuracy'], metrics=['accuracy'])\n"
   ]
  },
  {
   "cell_type": "markdown",
   "metadata": {
    "colab_type": "text",
    "id": "1HAcLj36u9f_"
   },
   "source": [
    "# Training"
   ]
  },
  {
   "cell_type": "code",
   "execution_count": 0,
   "metadata": {
    "colab": {},
    "colab_type": "code",
    "id": "6ZVMAVEPhbdc"
   },
   "outputs": [],
   "source": [
    "model.fit_generator(train_generator, \n",
    "                steps_per_epoch = math.ceil(len(X_train) / batch_size), \n",
    "                epochs=10,\n",
    "                validation_data=validation_generator,\n",
    "                validation_steps=math.ceil(len(X_validation) / batch_size),\n",
    "                class_weight = class_weights)\n"
   ]
  },
  {
   "cell_type": "markdown",
   "metadata": {
    "colab_type": "text",
    "id": "qPZghMBOvVN5"
   },
   "source": [
    "# Predicting"
   ]
  },
  {
   "cell_type": "code",
   "execution_count": 0,
   "metadata": {
    "colab": {},
    "colab_type": "code",
    "id": "Lx2q-igGvEbg"
   },
   "outputs": [],
   "source": [
    "#predicted = model.predict_generator(test_generator, verbose=1)"
   ]
  },
  {
   "cell_type": "markdown",
   "metadata": {
    "colab_type": "text",
    "id": "hdNioNdQmGIM"
   },
   "source": [
    "# Saving prediction in csv format"
   ]
  },
  {
   "cell_type": "code",
   "execution_count": 0,
   "metadata": {
    "colab": {},
    "colab_type": "code",
    "id": "XozUS-jQkxI6"
   },
   "outputs": [],
   "source": [
    "'''\n",
    "predictedList = list(map(lambda x : np.argmax(x),predicted))\n",
    "classes = list(dict.fromkeys(list(np.array(df_train[\"class\"]))))\n",
    "stringPredictedList = list(map(lambda x : classes[x-1],predictedList))\n",
    "predClasses = pd.DataFrame({'Category': stringPredictedList})\n",
    "ids = pd.DataFrame({'Id':np.arange(len(df_test))})\n",
    "output = pd.concat([ids, predClasses], axis=1)\n",
    "\n",
    "output.to_csv('C:/ML/mobile_net_v2_prediction.csv', index = None, header=True)\n",
    "'''"
   ]
  },
  {
   "cell_type": "markdown",
   "metadata": {
    "colab_type": "text",
    "id": "udExS8ErpOoz"
   },
   "source": [
    "# Saving and loading model for future use"
   ]
  },
  {
   "cell_type": "code",
   "execution_count": 0,
   "metadata": {
    "colab": {},
    "colab_type": "code",
    "id": "_ORalG4rpIvs"
   },
   "outputs": [],
   "source": [
    "#model.save('C:/ML/mobilenet_v2.h5')\n",
    "#model = load_model('C:/ML/mobilenet_v2.h5')"
   ]
  }
 ],
 "metadata": {
  "accelerator": "GPU",
  "colab": {
   "collapsed_sections": [],
   "name": "Honza.ipynb",
   "provenance": []
  },
  "kernelspec": {
   "display_name": "Python 3",
   "language": "python",
   "name": "python3"
  },
  "language_info": {
   "codemirror_mode": {
    "name": "ipython",
    "version": 3
   },
   "file_extension": ".py",
   "mimetype": "text/x-python",
   "name": "python",
   "nbconvert_exporter": "python",
   "pygments_lexer": "ipython3",
   "version": "3.7.3"
  }
 },
 "nbformat": 4,
 "nbformat_minor": 1
}
